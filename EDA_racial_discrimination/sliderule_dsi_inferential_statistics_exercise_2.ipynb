{
 "cells": [
  {
   "cell_type": "markdown",
   "metadata": {},
   "source": [
    "# Examining Racial Discrimination in the US Job Market\n",
    "\n",
    "### Background\n",
    "Racial discrimination continues to be pervasive in cultures throughout the world. Researchers examined the level of racial discrimination in the United States labor market by randomly assigning identical résumés to black-sounding or white-sounding names and observing the impact on requests for interviews from employers.\n",
    "\n",
    "### Data\n",
    "In the dataset provided, each row represents a resume. The 'race' column has two values, 'b' and 'w', indicating black-sounding and white-sounding. The column 'call' has two values, 1 and 0, indicating whether the resume received a call from employers or not.\n",
    "\n",
    "Note that the 'b' and 'w' values in race are assigned randomly to the resumes when presented to the employer."
   ]
  },
  {
   "cell_type": "markdown",
   "metadata": {},
   "source": [
    "### Exercises\n",
    "You will perform a statistical analysis to establish whether race has a significant impact on the rate of callbacks for resumes.\n",
    "\n",
    "Answer the following questions **in this notebook below and submit to your Github account**. \n",
    "\n",
    "   1. What test is appropriate for this problem? Does CLT apply?\n",
    "   2. What are the null and alternate hypotheses?\n",
    "   3. Compute margin of error, confidence interval, and p-value. Try using both the bootstrapping and the frequentist statistical approaches.\n",
    "   4. Write a story describing the statistical significance in the context or the original problem.\n",
    "   5. Does your analysis mean that race/name is the most important factor in callback success? Why or why not? If not, how would you amend your analysis?\n",
    "\n",
    "You can include written notes in notebook cells using Markdown: \n",
    "   - In the control panel at the top, choose Cell > Cell Type > Markdown\n",
    "   - Markdown syntax: http://nestacms.com/docs/creating-content/markdown-cheat-sheet\n",
    "\n",
    "#### Resources\n",
    "+ Experiment information and data source: http://www.povertyactionlab.org/evaluation/discrimination-job-market-united-states\n",
    "+ Scipy statistical methods: http://docs.scipy.org/doc/scipy/reference/stats.html \n",
    "+ Markdown syntax: http://nestacms.com/docs/creating-content/markdown-cheat-sheet\n",
    "+ Formulas for the Bernoulli distribution: https://en.wikipedia.org/wiki/Bernoulli_distribution"
   ]
  },
  {
   "cell_type": "code",
   "execution_count": 14,
   "metadata": {},
   "outputs": [],
   "source": [
    "import pandas as pd\n",
    "import numpy as np\n",
    "from scipy import stats\n",
    "import pylab\n",
    "import matplotlib.pyplot as plt"
   ]
  },
  {
   "cell_type": "code",
   "execution_count": 15,
   "metadata": {},
   "outputs": [],
   "source": [
    "data = pd.io.stata.read_stata('data/us_job_market_discrimination.dta')"
   ]
  },
  {
   "cell_type": "code",
   "execution_count": 16,
   "metadata": {},
   "outputs": [
    {
     "name": "stdout",
     "output_type": "stream",
     "text": [
      "235.0\n",
      "157.0\n",
      "4870\n"
     ]
    }
   ],
   "source": [
    "# number of callbacks for black-sounding names\n",
    "print(sum(data[data.race=='w'].call))\n",
    "print(sum(data[data.race=='b'].call))\n",
    "print(len(data.race))"
   ]
  },
  {
   "cell_type": "code",
   "execution_count": 46,
   "metadata": {},
   "outputs": [
    {
     "data": {
      "text/html": [
       "<div>\n",
       "<style scoped>\n",
       "    .dataframe tbody tr th:only-of-type {\n",
       "        vertical-align: middle;\n",
       "    }\n",
       "\n",
       "    .dataframe tbody tr th {\n",
       "        vertical-align: top;\n",
       "    }\n",
       "\n",
       "    .dataframe thead th {\n",
       "        text-align: right;\n",
       "    }\n",
       "</style>\n",
       "<table border=\"1\" class=\"dataframe\">\n",
       "  <thead>\n",
       "    <tr style=\"text-align: right;\">\n",
       "      <th></th>\n",
       "      <th>id</th>\n",
       "      <th>ad</th>\n",
       "      <th>education</th>\n",
       "      <th>ofjobs</th>\n",
       "      <th>yearsexp</th>\n",
       "      <th>honors</th>\n",
       "      <th>volunteer</th>\n",
       "      <th>military</th>\n",
       "      <th>empholes</th>\n",
       "      <th>occupspecific</th>\n",
       "      <th>...</th>\n",
       "      <th>compreq</th>\n",
       "      <th>orgreq</th>\n",
       "      <th>manuf</th>\n",
       "      <th>transcom</th>\n",
       "      <th>bankreal</th>\n",
       "      <th>trade</th>\n",
       "      <th>busservice</th>\n",
       "      <th>othservice</th>\n",
       "      <th>missind</th>\n",
       "      <th>ownership</th>\n",
       "    </tr>\n",
       "  </thead>\n",
       "  <tbody>\n",
       "    <tr>\n",
       "      <th>0</th>\n",
       "      <td>b</td>\n",
       "      <td>1</td>\n",
       "      <td>4</td>\n",
       "      <td>2</td>\n",
       "      <td>6</td>\n",
       "      <td>0</td>\n",
       "      <td>0</td>\n",
       "      <td>0</td>\n",
       "      <td>1</td>\n",
       "      <td>17</td>\n",
       "      <td>...</td>\n",
       "      <td>1.0</td>\n",
       "      <td>0.0</td>\n",
       "      <td>1.0</td>\n",
       "      <td>0.0</td>\n",
       "      <td>0.0</td>\n",
       "      <td>0.0</td>\n",
       "      <td>0.0</td>\n",
       "      <td>0.0</td>\n",
       "      <td>0.0</td>\n",
       "      <td></td>\n",
       "    </tr>\n",
       "    <tr>\n",
       "      <th>1</th>\n",
       "      <td>b</td>\n",
       "      <td>1</td>\n",
       "      <td>3</td>\n",
       "      <td>3</td>\n",
       "      <td>6</td>\n",
       "      <td>0</td>\n",
       "      <td>1</td>\n",
       "      <td>1</td>\n",
       "      <td>0</td>\n",
       "      <td>316</td>\n",
       "      <td>...</td>\n",
       "      <td>1.0</td>\n",
       "      <td>0.0</td>\n",
       "      <td>1.0</td>\n",
       "      <td>0.0</td>\n",
       "      <td>0.0</td>\n",
       "      <td>0.0</td>\n",
       "      <td>0.0</td>\n",
       "      <td>0.0</td>\n",
       "      <td>0.0</td>\n",
       "      <td></td>\n",
       "    </tr>\n",
       "    <tr>\n",
       "      <th>2</th>\n",
       "      <td>b</td>\n",
       "      <td>1</td>\n",
       "      <td>4</td>\n",
       "      <td>1</td>\n",
       "      <td>6</td>\n",
       "      <td>0</td>\n",
       "      <td>0</td>\n",
       "      <td>0</td>\n",
       "      <td>0</td>\n",
       "      <td>19</td>\n",
       "      <td>...</td>\n",
       "      <td>1.0</td>\n",
       "      <td>0.0</td>\n",
       "      <td>1.0</td>\n",
       "      <td>0.0</td>\n",
       "      <td>0.0</td>\n",
       "      <td>0.0</td>\n",
       "      <td>0.0</td>\n",
       "      <td>0.0</td>\n",
       "      <td>0.0</td>\n",
       "      <td></td>\n",
       "    </tr>\n",
       "    <tr>\n",
       "      <th>3</th>\n",
       "      <td>b</td>\n",
       "      <td>1</td>\n",
       "      <td>3</td>\n",
       "      <td>4</td>\n",
       "      <td>6</td>\n",
       "      <td>0</td>\n",
       "      <td>1</td>\n",
       "      <td>0</td>\n",
       "      <td>1</td>\n",
       "      <td>313</td>\n",
       "      <td>...</td>\n",
       "      <td>1.0</td>\n",
       "      <td>0.0</td>\n",
       "      <td>1.0</td>\n",
       "      <td>0.0</td>\n",
       "      <td>0.0</td>\n",
       "      <td>0.0</td>\n",
       "      <td>0.0</td>\n",
       "      <td>0.0</td>\n",
       "      <td>0.0</td>\n",
       "      <td></td>\n",
       "    </tr>\n",
       "    <tr>\n",
       "      <th>4</th>\n",
       "      <td>b</td>\n",
       "      <td>1</td>\n",
       "      <td>3</td>\n",
       "      <td>3</td>\n",
       "      <td>22</td>\n",
       "      <td>0</td>\n",
       "      <td>0</td>\n",
       "      <td>0</td>\n",
       "      <td>0</td>\n",
       "      <td>313</td>\n",
       "      <td>...</td>\n",
       "      <td>1.0</td>\n",
       "      <td>1.0</td>\n",
       "      <td>0.0</td>\n",
       "      <td>0.0</td>\n",
       "      <td>0.0</td>\n",
       "      <td>0.0</td>\n",
       "      <td>0.0</td>\n",
       "      <td>1.0</td>\n",
       "      <td>0.0</td>\n",
       "      <td>Nonprofit</td>\n",
       "    </tr>\n",
       "  </tbody>\n",
       "</table>\n",
       "<p>5 rows × 65 columns</p>\n",
       "</div>"
      ],
      "text/plain": [
       "  id ad  education  ofjobs  yearsexp  honors  volunteer  military  empholes  \\\n",
       "0  b  1          4       2         6       0          0         0         1   \n",
       "1  b  1          3       3         6       0          1         1         0   \n",
       "2  b  1          4       1         6       0          0         0         0   \n",
       "3  b  1          3       4         6       0          1         0         1   \n",
       "4  b  1          3       3        22       0          0         0         0   \n",
       "\n",
       "   occupspecific    ...      compreq  orgreq  manuf  transcom  bankreal trade  \\\n",
       "0             17    ...          1.0     0.0    1.0       0.0       0.0   0.0   \n",
       "1            316    ...          1.0     0.0    1.0       0.0       0.0   0.0   \n",
       "2             19    ...          1.0     0.0    1.0       0.0       0.0   0.0   \n",
       "3            313    ...          1.0     0.0    1.0       0.0       0.0   0.0   \n",
       "4            313    ...          1.0     1.0    0.0       0.0       0.0   0.0   \n",
       "\n",
       "  busservice othservice  missind  ownership  \n",
       "0        0.0        0.0      0.0             \n",
       "1        0.0        0.0      0.0             \n",
       "2        0.0        0.0      0.0             \n",
       "3        0.0        0.0      0.0             \n",
       "4        0.0        1.0      0.0  Nonprofit  \n",
       "\n",
       "[5 rows x 65 columns]"
      ]
     },
     "execution_count": 46,
     "metadata": {},
     "output_type": "execute_result"
    }
   ],
   "source": [
    "data.head()"
   ]
  },
  {
   "cell_type": "markdown",
   "metadata": {
    "collapsed": true
   },
   "source": [
    "<div class=\"span5 alert alert-success\">\n",
    "<p>Your answers to Q1 and Q2 here</p>\n",
    "</div>\n",
    "\n",
    "1) Since the randomly selected sample size of this dataset is sufficiently large (4870 resumes, 392 callbacks), the Central Limit Theorem would apply and use of the z-statistic to determine significance would be most appropriate.\n",
    "\n",
    "2) Null Hypothesis (Ho) = Black-sounding names do not affect interview request rates\n",
    "   Alternative Hypothesis (Ha) = Black-sounding names impact interview request rates"
   ]
  },
  {
   "cell_type": "code",
   "execution_count": 65,
   "metadata": {},
   "outputs": [
    {
     "name": "stdout",
     "output_type": "stream",
     "text": [
      "Interview requested --> White(samp_p): 0.097 vs. Black (samp_p): 0.064 Difference: 0.032\n",
      "Standard deviation (White - Black): 0.0078\n",
      "\n",
      "z-score = 4.12 p_value= 0.00 :Reject the null hypothesis\n"
     ]
    }
   ],
   "source": [
    "#Partition interview requests dataframes by race. Each dataframe is of equal size (2,435 resumes each) \n",
    "w = data[data.race=='w']\n",
    "b = data[data.race=='b']\n",
    "\n",
    "#Compute/Print Probability of callback, mean, and standard deviation for each df\n",
    "\n",
    "#Callback count out of 2,435 resumes for each df\n",
    "mu_call_w = len(w[w['call'] == 1]) / len(w)\n",
    "mu_call_b = len(b[b['call'] == 1]) / len(b)\n",
    "mu_wb_diff = mu_call_w - mu_call_b\n",
    "\n",
    "#Standard deviation of each df\n",
    "std_w = (mu_call_w * (1-mu_call_w)) / len(w) \n",
    "std_b = (mu_call_b * (1-mu_call_b)) / len(b)\n",
    "std_wb_diff = np.sqrt([std_w + std_b]) \n",
    "\n",
    "#Compute relevant statistics (Margin of error @ 95% confidence, confidence interval, and p-value)\n",
    "z_score = mu_wb_diff / std_wb_diff #Standard deviations from 0 difference\n",
    "p_value = (1-stats.norm.cdf(z_score)) * 2 \n",
    "\n",
    "z_critical = stats.norm.ppf(q=0.975)\n",
    "moe = z_critical * std_wb_diff \n",
    "conf_int = mu_wb_diff + np.array([-1,1]) * moe\n",
    "\n",
    "#Compare each statistic\n",
    "print('Interview requested --> White(samp_p): %.3f vs. Black (samp_p): %.3f Difference: %.3f' % (mu_call_w,mu_call_b, mu_wb_diff) + '\\n'\n",
    "      'Standard deviation (White - Black): %.4f' % (std_wb_diff) + '\\n')\n",
    "\n",
    "alpha = 0.05\n",
    "if p_value > alpha:\n",
    "    print('z-score = %.2f p_value= %.2f' % (z_score, p_value), ':Do not reject the null hypothesis')\n",
    "else:\n",
    "    print('z-score = %.2f p_value= %.2f' % (z_score, p_value), ':Reject the null hypothesis')"
   ]
  },
  {
   "cell_type": "code",
   "execution_count": 43,
   "metadata": {},
   "outputs": [
    {
     "data": {
      "image/png": "[encoded data removed]",
      "text/plain": [
       "<Figure size 432x288 with 1 Axes>"
      ]
     },
     "metadata": {
      "needs_background": "light"
     },
     "output_type": "display_data"
    }
   ],
   "source": [
    "#Create visualization of differences in interview rates for black versus white sounding names on resumes\n",
    "x_max = mu_wb_diff + (std_wb_diff * z_score)         \n",
    "x_min = mu_wb_diff - (std_wb_diff * z_score)\n",
    "x = np.linspace(x_min, x_max)\n",
    "y = norm.pdf(x, loc=mu_wb_diff, scale=std_wb_diff)    # for example\n",
    "pylab.plot(x,y)\n",
    "plt.title('Difference in interview rates (White Versus Black Sounding Names)')\n",
    "plt.vlines(mu_wb_diff, ymin=0, ymax=51, color='blue', linestyles='dashed')\n",
    "plt.vlines(conf_int[0], ymin=0, ymax=7.2, color='red', linestyles='dashed')\n",
    "plt.vlines(conf_int[1], ymin=0, ymax=7.2, color='red', linestyles='dashed')\n",
    "plt.text(mu_wb_diff * 0.75, 10, '95% confidence', color='red')\n",
    "pylab.show()"
   ]
  },
  {
   "cell_type": "code",
   "execution_count": 62,
   "metadata": {},
   "outputs": [
    {
     "name": "stdout",
     "output_type": "stream",
     "text": [
      "p = 0.0001\n"
     ]
    }
   ],
   "source": [
    "#Repeat above excercise, but implement bootstrapping (random sampling + replacement) to see if results still hold\n",
    "data_replication = np.empty(10000)\n",
    "\n",
    "white = data[data.race=='w']['call'].values\n",
    "black = data[data.race=='b']['call'].values\n",
    "\n",
    "mu_diff_resample = np.mean(white) - np.mean(black)\n",
    "\n",
    "for i in range(len(data_replication)):\n",
    "    data_samples = np.random.permutation(np.concatenate((white, black)))\n",
    "\n",
    "    white_sample = data_samples[:len(white)]\n",
    "    black_sample = data_samples[len(white):]\n",
    "\n",
    "    data_replication[i] = np.abs(np.mean(white_sample) - np.mean(black_sample))\n",
    "\n",
    "p = np.sum(data_replication > mu_diff_resample) / len(data_replication)\n",
    "print('p =', p)"
   ]
  },
  {
   "cell_type": "markdown",
   "metadata": {},
   "source": [
    "<div class=\"span5 alert alert-success\">\n",
    "<p> Your answers to Q4 and Q5 here </p>\n",
    "</div>"
   ]
  },
  {
   "cell_type": "markdown",
   "metadata": {},
   "source": [
    "<b>Explanation of results</b>\n",
    "\n",
    "After carefully examining the dataset, it's reasonable to conclude that there is a significant difference in interview requests when comparing black versus white sounding names on resumes. The mean difference in call rates was 3.2%, which is over four standard deviations away from no difference (i.e. 0%). Testing was done at a 95% confidence rate, which would be approxuimately two standard deviations away from the mean difference, so it was clear that our initial z-score was what we needed to know. We can reject the null hypothesis and accept the alternative hypothesis that black-sounding names impact interview request rates.\n",
    "\n",
    "Despite the clear signal, questions remain - such as what other factors could have influenced the dataset? The dataset contained 65 other columns of detailed data describing a range of factors from employment gaps to military experience. It would be important to fully understand other potential bias in the data and see whether there was an underlying commonality not captured in the the direct analysis we did. Assuming no bias occurred amongst other factors, the results from our above tests were clearly pointing to a rejection of the null hypothesis. "
   ]
  }
 ],
 "metadata": {
  "kernelspec": {
   "display_name": "Python 3",
   "language": "python",
   "name": "python3"
  },
  "language_info": {
   "codemirror_mode": {
    "name": "ipython",
    "version": 3
   },
   "file_extension": ".py",
   "mimetype": "text/x-python",
   "name": "python",
   "nbconvert_exporter": "python",
   "pygments_lexer": "ipython3",
   "version": "3.6.4"
  }
 },
 "nbformat": 4,
 "nbformat_minor": 1
}
