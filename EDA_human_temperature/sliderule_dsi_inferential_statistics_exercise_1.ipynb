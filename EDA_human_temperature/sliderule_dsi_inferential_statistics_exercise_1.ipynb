{
 "cells": [
  {
   "cell_type": "markdown",
   "metadata": {},
   "source": [
    "# What is the True Normal Human Body Temperature? \n",
    "\n",
    "#### Background\n",
    "\n",
    "The mean normal body temperature was held to be 37$^{\\circ}$C or 98.6$^{\\circ}$F for more than 120 years since it was first conceptualized and reported by Carl Wunderlich in a famous 1868 book. But, is this value statistically correct?"
   ]
  },
  {
   "cell_type": "markdown",
   "metadata": {},
   "source": [
    "<h3>Exercises</h3>\n",
    "\n",
    "<p>In this exercise, you will analyze a dataset of human body temperatures and employ the concepts of hypothesis testing, confidence intervals, and statistical significance.</p>\n",
    "\n",
    "<p>Answer the following questions <b>in this notebook below and submit to your Github account</b>.</p> \n",
    "\n",
    "<ol>\n",
    "<li>  Is the distribution of body temperatures normal? \n",
    "    <ul>\n",
    "    <li> Although this is not a requirement for the Central Limit Theorem to hold (read the introduction on Wikipedia's page about the CLT carefully: https://en.wikipedia.org/wiki/Central_limit_theorem), it gives us some peace of mind that the population may also be normally distributed if we assume that this sample is representative of the population.\n",
    "    <li> Think about the way you're going to check for the normality of the distribution. Graphical methods are usually used first, but there are also other ways: https://en.wikipedia.org/wiki/Normality_test\n",
    "    </ul>\n",
    "<li>  Is the sample size large? Are the observations independent?\n",
    "    <ul>\n",
    "    <li> Remember that this is a condition for the Central Limit Theorem, and hence the statistical tests we are using, to apply.\n",
    "    </ul>\n",
    "<li>  Is the true population mean really 98.6 degrees F?\n",
    "    <ul>\n",
    "    <li> First, try a bootstrap hypothesis test.\n",
    "    <li> Now, let's try frequentist statistical testing. Would you use a one-sample or two-sample test? Why?\n",
    "    <li> In this situation, is it appropriate to use the $t$ or $z$ statistic? \n",
    "    <li> Now try using the other test. How is the result be different? Why?\n",
    "    </ul>\n",
    "<li>  Draw a small sample of size 10 from the data and repeat both frequentist tests. \n",
    "    <ul>\n",
    "    <li> Which one is the correct one to use? \n",
    "    <li> What do you notice? What does this tell you about the difference in application of the $t$ and $z$ statistic?\n",
    "    </ul>\n",
    "<li>  At what temperature should we consider someone's temperature to be \"abnormal\"?\n",
    "    <ul>\n",
    "    <li> As in the previous example, try calculating everything using the boostrap approach, as well as the frequentist approach.\n",
    "    <li> Start by computing the margin of error and confidence interval. When calculating the confidence interval, keep in mind that you should use the appropriate formula for one draw, and not N draws.\n",
    "    </ul>\n",
    "<li>  Is there a significant difference between males and females in normal temperature?\n",
    "    <ul>\n",
    "    <li> What testing approach did you use and why?\n",
    "    <li> Write a story with your conclusion in the context of the original problem.\n",
    "    </ul>\n",
    "</ol>\n",
    "\n",
    "You can include written notes in notebook cells using Markdown: \n",
    "   - In the control panel at the top, choose Cell > Cell Type > Markdown\n",
    "   - Markdown syntax: http://nestacms.com/docs/creating-content/markdown-cheat-sheet\n",
    "\n",
    "#### Resources\n",
    "\n",
    "+ Information and data sources: http://www.amstat.org/publications/jse/datasets/normtemp.txt, http://www.amstat.org/publications/jse/jse_data_archive.htm\n",
    "+ Markdown syntax: http://nestacms.com/docs/creating-content/markdown-cheat-sheet\n",
    "\n",
    "****"
   ]
  },
  {
   "cell_type": "code",
   "execution_count": 1,
   "metadata": {},
   "outputs": [
    {
     "name": "stdout",
     "output_type": "stream",
     "text": [
      "<class 'pandas.core.frame.DataFrame'>\n",
      "RangeIndex: 130 entries, 0 to 129\n",
      "Data columns (total 3 columns):\n",
      "temperature    130 non-null float64\n",
      "gender         130 non-null object\n",
      "heart_rate     130 non-null float64\n",
      "dtypes: float64(2), object(1)\n",
      "memory usage: 3.1+ KB\n"
     ]
    },
    {
     "data": {
      "text/html": [
       "<div>\n",
       "<style scoped>\n",
       "    .dataframe tbody tr th:only-of-type {\n",
       "        vertical-align: middle;\n",
       "    }\n",
       "\n",
       "    .dataframe tbody tr th {\n",
       "        vertical-align: top;\n",
       "    }\n",
       "\n",
       "    .dataframe thead th {\n",
       "        text-align: right;\n",
       "    }\n",
       "</style>\n",
       "<table border=\"1\" class=\"dataframe\">\n",
       "  <thead>\n",
       "    <tr style=\"text-align: right;\">\n",
       "      <th></th>\n",
       "      <th>temperature</th>\n",
       "      <th>gender</th>\n",
       "      <th>heart_rate</th>\n",
       "    </tr>\n",
       "  </thead>\n",
       "  <tbody>\n",
       "    <tr>\n",
       "      <th>0</th>\n",
       "      <td>99.3</td>\n",
       "      <td>F</td>\n",
       "      <td>68.0</td>\n",
       "    </tr>\n",
       "    <tr>\n",
       "      <th>1</th>\n",
       "      <td>98.4</td>\n",
       "      <td>F</td>\n",
       "      <td>81.0</td>\n",
       "    </tr>\n",
       "    <tr>\n",
       "      <th>2</th>\n",
       "      <td>97.8</td>\n",
       "      <td>M</td>\n",
       "      <td>73.0</td>\n",
       "    </tr>\n",
       "    <tr>\n",
       "      <th>3</th>\n",
       "      <td>99.2</td>\n",
       "      <td>F</td>\n",
       "      <td>66.0</td>\n",
       "    </tr>\n",
       "    <tr>\n",
       "      <th>4</th>\n",
       "      <td>98.0</td>\n",
       "      <td>F</td>\n",
       "      <td>73.0</td>\n",
       "    </tr>\n",
       "  </tbody>\n",
       "</table>\n",
       "</div>"
      ],
      "text/plain": [
       "   temperature gender  heart_rate\n",
       "0         99.3      F        68.0\n",
       "1         98.4      F        81.0\n",
       "2         97.8      M        73.0\n",
       "3         99.2      F        66.0\n",
       "4         98.0      F        73.0"
      ]
     },
     "execution_count": 1,
     "metadata": {},
     "output_type": "execute_result"
    }
   ],
   "source": [
    "import pandas as pd\n",
    "import matplotlib.pyplot as plt\n",
    "import numpy as np\n",
    "from scipy import stats\n",
    "import seaborn as sns\n",
    "\n",
    "df = pd.read_csv('data/human_body_temperature.csv')\n",
    "df.info()\n",
    "df.head()"
   ]
  },
  {
   "cell_type": "markdown",
   "metadata": {},
   "source": [
    "<b>Is the distribution of body temperatures normal?</b>"
   ]
  },
  {
   "cell_type": "code",
   "execution_count": 34,
   "metadata": {},
   "outputs": [
    {
     "name": "stdout",
     "output_type": "stream",
     "text": [
      " test_1 p-value: 0.514\n",
      " test_2 p-value: 0.042\n",
      " test_3 p-value: 0.158\n",
      " Note: if all p-values are above 0.05, then we cannot reject the null hypothesis (i.e normally distributed)\n"
     ]
    },
    {
     "data": {
      "image/png": "[encoded data removed]",
      "text/plain": [
       "<Figure size 432x288 with 1 Axes>"
      ]
     },
     "metadata": {
      "needs_background": "light"
     },
     "output_type": "display_data"
    }
   ],
   "source": [
    "# Ho = Dataset is normally distributed, Ha = Dataset isn't normally distributed\n",
    "# Is our 130 data points representative of the population? Let's perform a Shapiro-Wilk test to see if our p-value is < 0.05. \n",
    "# If so, reject the null hypothesis.\n",
    "\n",
    "#Calculate basic sample metrics for later use (count, mean, and standard deivation)\n",
    "samp_count = len(df['temperature'])\n",
    "samp_mu = df['temperature'].mean()\n",
    "samp_sigma = df['temperature'].std()\n",
    "\n",
    "#Plot in histogram and boxplot to do quick visual check \n",
    "n_bins = int(np.sqrt(samp_count))\n",
    "plt.hist(df['temperature'], bins=n_bins)\n",
    "plt.title('Sample Distribution for Body Temperatures (F)');\n",
    "plt.xlabel('Body Temperature');\n",
    "plt.ylabel('Frequency');\n",
    "\n",
    "#Visually, the distribution looks approximately normal with some skew to the right.Let's run a test with different sample sizes\n",
    "#and random variables to see if the p-values will be below 0.05.\n",
    "\n",
    "#Using sample data mean and standard deviation as input, calculating random values with varying sample sizes \n",
    "test_1 = stats.norm.rvs(loc=samp_mu, scale=samp_sigma, size=10)\n",
    "test_2 = stats.norm.rvs(loc=samp_mu, scale=samp_sigma, size=100)\n",
    "test_3 = stats.norm.rvs(loc=samp_mu, scale=samp_sigma, size=1000)\n",
    "\n",
    "#Using Shapiro-Wilk test, calculating p-values to determine normality\n",
    "print(' test_1 p-value: ' + str(round((stats.shapiro(test_1)[1]),3)) + '\\n', \n",
    "      'test_2 p-value: ' + str(round((stats.shapiro(test_2)[1]),3)) + '\\n', \n",
    "      'test_3 p-value: ' + str(round((stats.shapiro(test_3)[1]),3)) + '\\n', \n",
    "      'Note: if all p-values are above 0.05, then we cannot reject the null hypothesis (i.e normally distributed)')"
   ]
  },
  {
   "cell_type": "markdown",
   "metadata": {},
   "source": [
    "<b>Is the sample size large? Are the observations independent?</b>\n",
    "\n",
    "The sample size is large enough with sufficient observations around the mean (>10) and is normally distributed. We can also assume the obervations are independent given the sample size is less than 10% of the total population. "
   ]
  },
  {
   "cell_type": "markdown",
   "metadata": {},
   "source": [
    "<b>Is the true population mean really 98.6 degrees F?</b>"
   ]
  },
  {
   "cell_type": "code",
   "execution_count": 22,
   "metadata": {},
   "outputs": [
    {
     "name": "stdout",
     "output_type": "stream",
     "text": [
      "z-statistic = -5.45 p_value = 2.00; Mean is not 98.6, reject the null hypothesis\n"
     ]
    }
   ],
   "source": [
    "#Determine how many standard deviations the sample mean is from the stated population mean using z and t statistics\n",
    "#Z-statistic\n",
    "z_stat = (samp_mu - 98.6) / (samp_sigma / np.sqrt(samp_count)) #Ok to use samp_sigma if our sample size is > 30.\n",
    "p_value = stats.norm.cdf(abs(z_stat)) * 2\n",
    "\n",
    "alpha = 0.05\n",
    "if p_value > alpha:\n",
    "   print('z-statistic = %.2f p_value = %.2f' % (z_stat, p_value) + '; Mean is not 98.6, reject the null hypothesis') \n",
    "else: \n",
    "   print('z-statistic = %.2f p_value = %.2f' % (z_stat, p_value) + '; Mean is 98.6, cannot reject the null hypothesis') "
   ]
  },
  {
   "cell_type": "markdown",
   "metadata": {},
   "source": [
    "<b><size=+2>Some notes on metholodogies chosen and use of certain tests:</size></b>\n",
    "\n",
    "1) We're using a one-sample test since we're trying to compare a sample mean with a known population mean (98.6) to determine if there is a difference.\n",
    "\n",
    "2) The major difference between using a z-score (typically uses population standard deviation) and a t-statistic is that you have to estimate the population standard deviation. Since our sample size is greater than 30, we can use the z-score for our estimations and the t-statistic isn't needed. The t-statistic is typically used for small samples (less than 30), where we don't have the population standard deviation. "
   ]
  },
  {
   "cell_type": "markdown",
   "metadata": {},
   "source": [
    "<b> At what temperature should we consider someone's temperature to be \"abnormal\"? </b>\n",
    "\n",
    "Typically, when a person's temperature exceeds three standard deviation's from a normal mean temperature, we'd consider this to be \"abnormal\"."
   ]
  },
  {
   "cell_type": "code",
   "execution_count": 35,
   "metadata": {},
   "outputs": [
    {
     "name": "stdout",
     "output_type": "stream",
     "text": [
      "Normal body temperature is between: 96.81 to 99.69\n"
     ]
    },
    {
     "data": {
      "image/png": "[encoded data removed]",
      "text/plain": [
       "<Figure size 432x288 with 1 Axes>"
      ]
     },
     "metadata": {
      "needs_background": "light"
     },
     "output_type": "display_data"
    }
   ],
   "source": [
    "#Calculate confidence interval to determine three sd line\n",
    "moe = 1.96 * samp_sigma #Where 1.96 is the z-statistic for three SD's\n",
    "conf_int = samp_mu + np.array([-1, 1]) * moe\n",
    "\n",
    "ax = sns.distplot(df['temperature'], bins=n_bins, kde=True, color='skyblue', hist={\"linewidth\": 15,'alpha':1})\n",
    "ax.set(xlabel='Body Temperature', ylabel='Frequency')\n",
    "plt.vlines(conf_int[0], ymin=0, ymax=0.1, color='red')\n",
    "plt.vlines(conf_int[1], ymin=0, ymax=0.06, color='red')\n",
    "\n",
    "print('Normal body temperature is between: %.2f to %.2f' % (conf_int[0],conf_int[1]))"
   ]
  },
  {
   "cell_type": "markdown",
   "metadata": {},
   "source": [
    "<b>Is there a significant difference between males and females in normal temperature?</b>\n",
    "\n",
    "We know that we can subtract the mean's from both populations, but we cannot subtract/add standard deviations, only variances. In order to answer this question, we will need both components. "
   ]
  },
  {
   "cell_type": "code",
   "execution_count": 33,
   "metadata": {},
   "outputs": [
    {
     "name": "stdout",
     "output_type": "stream",
     "text": [
      "t-statistic = 2.29 | p_value = 0.02; Men and Women have different average body temperatures, cannot reject the null hypothesis\n"
     ]
    },
    {
     "data": {
      "image/png": "[encoded data removed]",
      "text/plain": [
       "<Figure size 432x288 with 1 Axes>"
      ]
     },
     "metadata": {
      "needs_background": "light"
     },
     "output_type": "display_data"
    }
   ],
   "source": [
    "#Female dataframe and metrics\n",
    "female_df = df.loc[df['gender'] == 'F', :]\n",
    "female_count = len(female_df)\n",
    "female_mu = female_df['temperature'].mean()\n",
    "female_sigma = female_df['temperature'].std()\n",
    "\n",
    "#Male dataframe and metrics\n",
    "male_df = df.loc[df['gender'] == 'M', :]\n",
    "male_count = len(male_df)\n",
    "male_mu = male_df['temperature'].mean()\n",
    "male_sigma = male_df['temperature'].std()\n",
    "\n",
    "#Plot each distribution\n",
    "ax = sns.distplot(male_df['temperature'], bins=n_bins, color='blue', label = 'Male', hist=False)\n",
    "ax = sns.distplot(female_df['temperature'], bins=n_bins, color='red', label = 'Female', hist=False)\n",
    "ax.set(xlabel='Body Temperature', ylabel='Frequency')\n",
    "\n",
    "#Calculate two-tailed t-statistic, p-value to test for significant difference in body temperatures\n",
    "two_samp_tstat = (female_mu - male_mu) / np.sqrt((male_sigma**2/male_count) + (female_sigma**2/female_count))\n",
    "p_value_mf_diff = stats.t.sf(abs(two_samp_tstat), samp_count - 2) * 2\n",
    "\n",
    "alpha = 0.05\n",
    "if p_value_mf_diff > alpha:\n",
    "   print('t-statistic = %.2f | p_value = %.2f' % (two_samp_tstat, p_value_mf_diff) + '; Men and Women have same average body temperature, reject the null hypothesis') \n",
    "else: \n",
    "   print('t-statistic = %.2f | p_value = %.2f' % (two_samp_tstat, p_value_mf_diff) + '; Men and Women have different average body temperatures, cannot reject the null hypothesis') "
   ]
  },
  {
   "cell_type": "code",
   "execution_count": null,
   "metadata": {},
   "outputs": [],
   "source": []
  }
 ],
 "metadata": {
  "kernelspec": {
   "display_name": "Python 3",
   "language": "python",
   "name": "python3"
  },
  "language_info": {
   "codemirror_mode": {
    "name": "ipython",
    "version": 3
   },
   "file_extension": ".py",
   "mimetype": "text/x-python",
   "name": "python",
   "nbconvert_exporter": "python",
   "pygments_lexer": "ipython3",
   "version": "3.6.4"
  }
 },
 "nbformat": 4,
 "nbformat_minor": 1
}
